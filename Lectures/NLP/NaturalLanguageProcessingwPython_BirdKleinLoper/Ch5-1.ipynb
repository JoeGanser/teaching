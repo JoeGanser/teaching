{
 "cells": [
  {
   "cell_type": "markdown",
   "id": "07382d3b",
   "metadata": {},
   "source": [
    "# Ch5 Categorizing and tagging words"
   ]
  },
  {
   "cell_type": "markdown",
   "id": "2016cb00",
   "metadata": {},
   "source": [
    "Chapter questions\n",
    "1. What are lexical categories and how are they used in NLP?\n",
    "2. What is a good python data structure for storing words and their categories?\n",
    "3. How can we automatically tag each word of a text with its word class?"
   ]
  },
  {
   "cell_type": "markdown",
   "id": "617511ed",
   "metadata": {},
   "source": [
    "The process of classifying words into their parts of speech and labelling them accordingly is known as part of speech tagging (POS tagging) or simply tagging.\n",
    "\n",
    "Part of speech are also known as word classes or lexical categories. The collection of tags used for a particular task is known as a tagset.\n",
    "\n",
    "# 5.1 using a tagger\n",
    "\n",
    "A POS tagger, processes a sequence of words, and attaches a part of speech tag to each word (dont forget to import NLTK)"
   ]
  },
  {
   "cell_type": "code",
   "execution_count": 5,
   "id": "4887b4cd",
   "metadata": {},
   "outputs": [
    {
     "data": {
      "text/plain": [
       "[('And', 'CC'),\n",
       " ('now', 'RB'),\n",
       " ('for', 'IN'),\n",
       " ('something', 'NN'),\n",
       " ('completely', 'RB'),\n",
       " ('different', 'JJ')]"
      ]
     },
     "execution_count": 3,
     "metadata": {},
     "output_type": "execute_result"
    }
   ],
   "source": [
    "import nltk\n",
    "text = nltk.word_tokenize(\"And now for something completely different\")\n",
    "nltk.pos_tag(text)"
   ]
  },
  {
   "cell_type": "markdown",
   "id": "78a1b0bf",
   "metadata": {},
   "source": [
    "## now include some homonyms"
   ]
  },
  {
   "cell_type": "code",
   "execution_count": 8,
   "id": "e6ab4a6a",
   "metadata": {},
   "outputs": [
    {
     "data": {
      "text/plain": [
       "[('They', 'PRP'),\n",
       " ('refuse', 'VBP'),\n",
       " ('to', 'TO'),\n",
       " ('permit', 'VB'),\n",
       " ('us', 'PRP'),\n",
       " ('to', 'TO'),\n",
       " ('obtain', 'VB'),\n",
       " ('the', 'DT'),\n",
       " ('refuse', 'NN'),\n",
       " ('permit', 'NN')]"
      ]
     },
     "execution_count": 7,
     "metadata": {},
     "output_type": "execute_result"
    }
   ],
   "source": [
    "text = nltk.word_tokenize(\"They refuse to permit us to obtain the refuse permit\")\n",
    "nltk.pos_tag(text)"
   ]
  },
  {
   "cell_type": "markdown",
   "id": "7ae54684",
   "metadata": {},
   "source": [
    "notice that refuse and permit appear both as a verb in present tense and as a noun. Thus we need to know which word is beingused in order ot pronounce the text correctly."
   ]
  },
  {
   "cell_type": "code",
   "execution_count": 9,
   "id": "6d8e49ca",
   "metadata": {},
   "outputs": [
    {
     "name": "stdout",
     "output_type": "stream",
     "text": [
      "man time day year car moment world house family child country boy\n",
      "state job place way war girl work word\n"
     ]
    }
   ],
   "source": [
    "text = nltk.Text(word.lower() for word in nltk.corpus.brown.words())\n",
    "text.similar('woman') #notice woman finds nouns"
   ]
  },
  {
   "cell_type": "code",
   "execution_count": 10,
   "id": "ca070a54",
   "metadata": {},
   "outputs": [
    {
     "name": "stdout",
     "output_type": "stream",
     "text": [
      "made said done put had seen found given left heard was been brought\n",
      "set got that took in told felt\n"
     ]
    }
   ],
   "source": [
    "text.similar('bought') #notice bought finds verbs"
   ]
  },
  {
   "cell_type": "code",
   "execution_count": 20,
   "id": "246ccf6c",
   "metadata": {},
   "outputs": [
    {
     "name": "stdout",
     "output_type": "stream",
     "text": [
      "in on to of and for with from at by that into as up out down through\n",
      "is all about\n"
     ]
    }
   ],
   "source": [
    "text.similar('over') #notice over finds propositions"
   ]
  },
  {
   "cell_type": "code",
   "execution_count": 12,
   "id": "4800353d",
   "metadata": {},
   "outputs": [
    {
     "name": "stdout",
     "output_type": "stream",
     "text": [
      "a his this their its her an that our any all one these my in your no\n",
      "some other and\n"
     ]
    }
   ],
   "source": [
    "text.similar('the')"
   ]
  },
  {
   "cell_type": "markdown",
   "id": "cb05a7b9",
   "metadata": {},
   "source": [
    "The `text.similar()` method takes a word w and finds all the contexts w1, w2 then finds all word w' that appear in the same context; i.e. w1w'w2"
   ]
  }
 ],
 "metadata": {
  "kernelspec": {
   "display_name": "Python 3 (ipykernel)",
   "language": "python",
   "name": "python3"
  },
  "language_info": {
   "codemirror_mode": {
    "name": "ipython",
    "version": 3
   },
   "file_extension": ".py",
   "mimetype": "text/x-python",
   "name": "python",
   "nbconvert_exporter": "python",
   "pygments_lexer": "ipython3",
   "version": "3.9.13"
  }
 },
 "nbformat": 4,
 "nbformat_minor": 5
}
