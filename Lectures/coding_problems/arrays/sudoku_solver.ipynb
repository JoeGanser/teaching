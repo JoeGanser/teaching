{
 "cells": [
  {
   "cell_type": "code",
   "execution_count": 30,
   "id": "e0c28f7e",
   "metadata": {},
   "outputs": [],
   "source": [
    "#https://leetcode.com/problems/sudoku-solver/description/\n",
    "class Solution:\n",
    "    def solveSudoku(self, board):\n",
    "        \"\"\"\n",
    "        Do not return anything, modify board in-place instead.\n",
    "        \"\"\"\n",
    "        nums = list(range(1,10))\n",
    "        # Step 1: Loop through each of the 9 (3x3) boxes, and save the elements of each box to a dictionary with keys 0-9\n",
    "        # Step 2: Create a list of possible remaining choices for the empty cells (all possible values) and if the cell isn't empty put None\n",
    "        m,n,k = 0,0,0\n",
    "        boxes = {}\n",
    "        cells = {}\n",
    "        while n<9:\n",
    "            L = []\n",
    "            for i in range(m,m+3):\n",
    "                for j in range(n,n+3):\n",
    "                    _ = board[i][j]\n",
    "                    cell_label = '({},{})'.format(i,j)\n",
    "                    if _!='.':\n",
    "                        L.append(int(_))\n",
    "                        cells[cell_label] = None\n",
    "                    else:\n",
    "                        cells[cell_label] = nums\n",
    "            boxes[k]=L\n",
    "            k+=1\n",
    "            m+=3\n",
    "            if m==9:\n",
    "                m=0\n",
    "                n+=3\n",
    "        # now we've created an index of elements for each box 0-9\n",
    "        # now we loop through each of the elements again, and where there is only one element left to choose from, we replace it into the box\n",
    "        while not all([v is None for v in cells.values()]):\n",
    "            m,n,k = 0,0,0\n",
    "            while n<9:\n",
    "                for i in range(m,m+3):\n",
    "                    for j in range(n,n+3):\n",
    "                        _ = board[i][j]\n",
    "                        if _=='.':\n",
    "                            cell_label = '({},{})'.format(i,j)\n",
    "                            box_elements = boxes[n]\n",
    "                            row = [int(r) for r in board[i] if r!='.']\n",
    "                            column = [int(row[j]) for row in board if row[j]!='.']\n",
    "                            remaining = [j for j in cells[cell_label] if j not in boxes[k] and j not in row and j not in column]\n",
    "                            if len(remaining)==1:\n",
    "                                element = remaining[0]\n",
    "                                board[i][j]=str(element)\n",
    "                                cells[cell_label] = None\n",
    "                                boxes[k].append(element)\n",
    "                            else:\n",
    "                                cells[cell_label] = remaining\n",
    "                k+=1        # next box\n",
    "                m+=3        #\n",
    "                if m==9:    # next column of boxes\n",
    "                    m=0     # move cursor back to the top\n",
    "                    n+=3    # move cursor to the right\n",
    "        return board"
   ]
  },
  {
   "cell_type": "code",
   "execution_count": null,
   "id": "46819c34",
   "metadata": {},
   "outputs": [],
   "source": []
  },
  {
   "cell_type": "code",
   "execution_count": 36,
   "id": "bd79dc68",
   "metadata": {},
   "outputs": [],
   "source": [
    "board1 = [[\".\",\".\",\"9\",\"7\",\"4\",\"8\",\".\",\".\",\".\"],[\"7\",\".\",\".\",\".\",\".\",\".\",\".\",\".\",\".\"],[\".\",\"2\",\".\",\"1\",\".\",\"9\",\".\",\".\",\".\"],[\".\",\".\",\"7\",\".\",\".\",\".\",\"2\",\"4\",\".\"],[\".\",\"6\",\"4\",\".\",\"1\",\".\",\"5\",\"9\",\".\"],[\".\",\"9\",\"8\",\".\",\".\",\".\",\"3\",\".\",\".\"],[\".\",\".\",\".\",\"8\",\".\",\"3\",\".\",\"2\",\".\"],[\".\",\".\",\".\",\".\",\".\",\".\",\".\",\".\",\"6\"],[\".\",\".\",\".\",\"2\",\"7\",\"5\",\"9\",\".\",\".\"]]\n",
    "board2 = [[\"5\",\"3\",\".\",\".\",\"7\",\".\",\".\",\".\",\".\"],[\"6\",\".\",\".\",\"1\",\"9\",\"5\",\".\",\".\",\".\"],[\".\",\"9\",\"8\",\".\",\".\",\".\",\".\",\"6\",\".\"],[\"8\",\".\",\".\",\".\",\"6\",\".\",\".\",\".\",\"3\"],[\"4\",\".\",\".\",\"8\",\".\",\"3\",\".\",\".\",\"1\"],[\"7\",\".\",\".\",\".\",\"2\",\".\",\".\",\".\",\"6\"],[\".\",\"6\",\".\",\".\",\".\",\".\",\"2\",\"8\",\".\"],[\".\",\".\",\".\",\"4\",\"1\",\"9\",\".\",\".\",\"5\"],[\".\",\".\",\".\",\".\",\"8\",\".\",\".\",\"7\",\"9\"]]"
   ]
  },
  {
   "cell_type": "code",
   "execution_count": 37,
   "id": "f16b276a",
   "metadata": {},
   "outputs": [
    {
     "name": "stdout",
     "output_type": "stream",
     "text": [
      "[['5', '3', '4', '6', '7', '8', '9', '1', '2'], ['6', '7', '2', '1', '9', '5', '3', '4', '8'], ['1', '9', '8', '3', '4', '2', '5', '6', '7'], ['8', '5', '9', '7', '6', '1', '4', '2', '3'], ['4', '2', '6', '8', '5', '3', '7', '9', '1'], ['7', '1', '3', '9', '2', '4', '8', '5', '6'], ['9', '6', '1', '5', '3', '7', '2', '8', '4'], ['2', '8', '7', '4', '1', '9', '6', '3', '5'], ['3', '4', '5', '2', '8', '6', '1', '7', '9']]\n"
     ]
    }
   ],
   "source": [
    "s = Solution().solveSudoku(board2)\n",
    "print(s)"
   ]
  },
  {
   "cell_type": "code",
   "execution_count": 28,
   "id": "f420c593",
   "metadata": {},
   "outputs": [
    {
     "name": "stdout",
     "output_type": "stream",
     "text": [
      "[5, 3, 6, 9, 8]\n",
      "0 0\n",
      "\n",
      "\n",
      "[8, 4, 7]\n",
      "0 3\n",
      "\n",
      "\n",
      "[6]\n",
      "0 6\n",
      "\n",
      "\n",
      "[7, 1, 9, 5]\n",
      "3 0\n",
      "\n",
      "\n",
      "[6, 8, 3, 2]\n",
      "3 3\n",
      "\n",
      "\n",
      "[4, 1, 9, 8]\n",
      "3 6\n",
      "\n",
      "\n",
      "[6]\n",
      "6 0\n",
      "\n",
      "\n",
      "[3, 1, 6]\n",
      "6 3\n",
      "\n",
      "\n",
      "[2, 8, 5, 7, 9]\n",
      "6 6\n",
      "\n",
      "\n"
     ]
    }
   ],
   "source": [
    "board2 = [\n",
    "          [\"5\",\"3\",\".\",\".\",\"7\",\".\",\".\",\".\",\".\"],\n",
    "          [\"6\",\".\",\".\",\"1\",\"9\",\"5\",\".\",\".\",\".\"],\n",
    "          [\".\",\"9\",\"8\",\".\",\".\",\".\",\".\",\"6\",\".\"],\n",
    "          [\"8\",\".\",\".\",\".\",\"6\",\".\",\".\",\".\",\"3\"],\n",
    "          [\"4\",\".\",\".\",\"8\",\".\",\"3\",\".\",\".\",\"1\"],\n",
    "          [\"7\",\".\",\".\",\".\",\"2\",\".\",\".\",\".\",\"6\"],\n",
    "          [\".\",\"6\",\".\",\".\",\".\",\".\",\"2\",\"8\",\".\"],\n",
    "          [\".\",\".\",\".\",\"4\",\"1\",\"9\",\".\",\".\",\"5\"],\n",
    "          [\".\",\".\",\".\",\".\",\"8\",\".\",\".\",\"7\",\"9\"]\n",
    "]\n",
    "m=0\n",
    "n=0\n",
    "\n",
    "while n<9:\n",
    "    L = []\n",
    "    for i in range(m,m+3):\n",
    "        for j in range(n,n+3):\n",
    "            _ = board[i][j]\n",
    "            if _!='.':\n",
    "                L.append(int(_))\n",
    "    print(L)\n",
    "    print(n,m)\n",
    "    print('\\n')\n",
    "    m+=3\n",
    "    if m==9:\n",
    "        m=0\n",
    "        n+=3"
   ]
  },
  {
   "cell_type": "code",
   "execution_count": 8,
   "id": "abce6e42",
   "metadata": {},
   "outputs": [],
   "source": [
    "cells = {}\n",
    "cells['a'] = [1,2]\n",
    "cells['b'] = None"
   ]
  },
  {
   "cell_type": "code",
   "execution_count": 27,
   "id": "09fa058c",
   "metadata": {},
   "outputs": [
    {
     "data": {
      "text/plain": [
       "True"
      ]
     },
     "execution_count": 25,
     "metadata": {},
     "output_type": "execute_result"
    }
   ],
   "source": [
    "not all([v is None for v in cells.values()])"
   ]
  },
  {
   "cell_type": "code",
   "execution_count": 18,
   "id": "054c54aa",
   "metadata": {},
   "outputs": [],
   "source": [
    "c = {}\n",
    "c['x'] = None\n",
    "c['y'] = None"
   ]
  },
  {
   "cell_type": "code",
   "execution_count": 20,
   "id": "98270ede",
   "metadata": {},
   "outputs": [
    {
     "data": {
      "text/plain": [
       "False"
      ]
     },
     "execution_count": 20,
     "metadata": {},
     "output_type": "execute_result"
    }
   ],
   "source": [
    "all([k is not None for k in c.values()])"
   ]
  },
  {
   "cell_type": "code",
   "execution_count": null,
   "id": "99930666",
   "metadata": {},
   "outputs": [],
   "source": []
  }
 ],
 "metadata": {
  "kernelspec": {
   "display_name": "Python 3 (ipykernel)",
   "language": "python",
   "name": "python3"
  },
  "language_info": {
   "codemirror_mode": {
    "name": "ipython",
    "version": 3
   },
   "file_extension": ".py",
   "mimetype": "text/x-python",
   "name": "python",
   "nbconvert_exporter": "python",
   "pygments_lexer": "ipython3",
   "version": "3.9.13"
  }
 },
 "nbformat": 4,
 "nbformat_minor": 5
}
