{
 "cells": [
  {
   "cell_type": "markdown",
   "metadata": {},
   "source": [
    "# DS542 Class 3\n",
    "#### date: 12/16/21\n",
    "---"
   ]
  },
  {
   "cell_type": "markdown",
   "metadata": {},
   "source": [
    "## Review from class 1 and 2"
   ]
  },
  {
   "cell_type": "code",
   "execution_count": null,
   "metadata": {},
   "outputs": [],
   "source": [
    "# integers\n",
    "# they are any whole number\n",
    "\n",
    "10 + 20.0"
   ]
  },
  {
   "cell_type": "code",
   "execution_count": null,
   "metadata": {},
   "outputs": [],
   "source": [
    "x = 15\n",
    "y = 5"
   ]
  },
  {
   "cell_type": "code",
   "execution_count": null,
   "metadata": {},
   "outputs": [],
   "source": [
    "x * y"
   ]
  },
  {
   "cell_type": "code",
   "execution_count": null,
   "metadata": {},
   "outputs": [],
   "source": [
    "a = 3\n",
    "b = 2"
   ]
  },
  {
   "cell_type": "code",
   "execution_count": null,
   "metadata": {},
   "outputs": [],
   "source": [
    "# exponents\n",
    "a ** b"
   ]
  },
  {
   "cell_type": "code",
   "execution_count": null,
   "metadata": {},
   "outputs": [],
   "source": [
    "# floats\n",
    "# floats are numbers with a decimal\n",
    "\n",
    "3.14 - 1.5"
   ]
  },
  {
   "cell_type": "code",
   "execution_count": null,
   "metadata": {},
   "outputs": [],
   "source": [
    "type(3.14 - 1.5)"
   ]
  },
  {
   "cell_type": "code",
   "execution_count": null,
   "metadata": {},
   "outputs": [],
   "source": [
    "c = 7.5\n",
    "d = 2.3"
   ]
  },
  {
   "cell_type": "code",
   "execution_count": null,
   "metadata": {},
   "outputs": [],
   "source": [
    "c / d"
   ]
  },
  {
   "cell_type": "code",
   "execution_count": null,
   "metadata": {},
   "outputs": [],
   "source": [
    "# rounding a float\n",
    "round(3.2798, 2)"
   ]
  },
  {
   "cell_type": "code",
   "execution_count": null,
   "metadata": {},
   "outputs": [],
   "source": [
    "round(c / d, 1)"
   ]
  },
  {
   "cell_type": "code",
   "execution_count": null,
   "metadata": {},
   "outputs": [],
   "source": [
    "# strings\n",
    "# combination of characters, they can include spaces (whitespaces)\n",
    "\n",
    "greeting = \"Hello\"\n",
    "file_path = 'documents/images/python_logo.png'"
   ]
  },
  {
   "cell_type": "code",
   "execution_count": null,
   "metadata": {},
   "outputs": [],
   "source": [
    "# string index\n",
    "greeting[0]"
   ]
  },
  {
   "cell_type": "code",
   "execution_count": null,
   "metadata": {},
   "outputs": [],
   "source": [
    "# string slicing\n",
    "# [start : stop : step]\n",
    "greeting[3:5]"
   ]
  },
  {
   "cell_type": "code",
   "execution_count": null,
   "metadata": {},
   "outputs": [],
   "source": [
    "greeting[0:5:2]"
   ]
  },
  {
   "cell_type": "code",
   "execution_count": null,
   "metadata": {},
   "outputs": [],
   "source": [
    "# reverse of a string\n",
    "greeting[::-1]"
   ]
  },
  {
   "cell_type": "code",
   "execution_count": null,
   "metadata": {},
   "outputs": [],
   "source": [
    "# built-in string methods\n",
    "# .lower() example\n",
    "greeting.lower()"
   ]
  },
  {
   "cell_type": "code",
   "execution_count": null,
   "metadata": {},
   "outputs": [],
   "source": [
    "# islower() method\n",
    "\"Farewell\".islower()"
   ]
  },
  {
   "cell_type": "code",
   "execution_count": null,
   "metadata": {},
   "outputs": [],
   "source": [
    "greeting.lower().islower()"
   ]
  },
  {
   "cell_type": "code",
   "execution_count": null,
   "metadata": {},
   "outputs": [],
   "source": [
    "# equivalence\n",
    "\"hello\" == \"hello\""
   ]
  },
  {
   "cell_type": "code",
   "execution_count": null,
   "metadata": {},
   "outputs": [],
   "source": [
    "a = 10\n",
    "b = 20\n",
    "\n",
    "a == b"
   ]
  },
  {
   "cell_type": "code",
   "execution_count": null,
   "metadata": {},
   "outputs": [],
   "source": [
    "a != b"
   ]
  },
  {
   "cell_type": "code",
   "execution_count": null,
   "metadata": {},
   "outputs": [],
   "source": [
    "# input() function (built-in python function)\n",
    "# input() allows the user to define a variable in real-time\n",
    "\n",
    "name = input(\"What is your name?\")"
   ]
  },
  {
   "cell_type": "code",
   "execution_count": null,
   "metadata": {},
   "outputs": [],
   "source": [
    "name"
   ]
  },
  {
   "cell_type": "code",
   "execution_count": null,
   "metadata": {},
   "outputs": [],
   "source": [
    "# input() as an integer\n",
    "your_guess = int(input(\"Guess a number between 1 and 10: \"))"
   ]
  },
  {
   "cell_type": "code",
   "execution_count": null,
   "metadata": {},
   "outputs": [],
   "source": [
    "your_guess"
   ]
  },
  {
   "cell_type": "code",
   "execution_count": null,
   "metadata": {},
   "outputs": [],
   "source": [
    "type(your_guess)"
   ]
  },
  {
   "cell_type": "code",
   "execution_count": null,
   "metadata": {},
   "outputs": [],
   "source": [
    "# best practices for naming variables, use underscores and lowercase letters\n",
    "brand_name = \"Nike\""
   ]
  },
  {
   "cell_type": "code",
   "execution_count": null,
   "metadata": {},
   "outputs": [],
   "source": [
    "brand_name"
   ]
  },
  {
   "cell_type": "code",
   "execution_count": null,
   "metadata": {},
   "outputs": [],
   "source": [
    "# lists from class #2\n",
    "# list is a collection of values inside square brackets\n",
    "\n",
    "dogs = [\"poodle\", \"german shepard\", \"bulldog\", \"golden doodle\", \"yorki\"]"
   ]
  },
  {
   "cell_type": "code",
   "execution_count": null,
   "metadata": {},
   "outputs": [],
   "source": [
    "type(dogs)"
   ]
  },
  {
   "cell_type": "code",
   "execution_count": null,
   "metadata": {},
   "outputs": [],
   "source": [
    "len(dogs)"
   ]
  },
  {
   "cell_type": "code",
   "execution_count": null,
   "metadata": {},
   "outputs": [],
   "source": [
    "# index of a list\n",
    "dogs[2]"
   ]
  },
  {
   "cell_type": "code",
   "execution_count": null,
   "metadata": {},
   "outputs": [],
   "source": [
    "# reverse of a list [::-1]\n",
    "dogs[::-1]"
   ]
  },
  {
   "cell_type": "code",
   "execution_count": null,
   "metadata": {},
   "outputs": [],
   "source": [
    "# lists are mutable\n",
    "del dogs[0]"
   ]
  },
  {
   "cell_type": "code",
   "execution_count": null,
   "metadata": {},
   "outputs": [],
   "source": [
    "dogs"
   ]
  },
  {
   "cell_type": "code",
   "execution_count": null,
   "metadata": {},
   "outputs": [],
   "source": [
    "dogs.remove(\"bulldog\")"
   ]
  },
  {
   "cell_type": "code",
   "execution_count": null,
   "metadata": {},
   "outputs": [],
   "source": [
    "dogs"
   ]
  },
  {
   "cell_type": "code",
   "execution_count": null,
   "metadata": {},
   "outputs": [],
   "source": [
    "dogs[0] = \"golden retriever\""
   ]
  },
  {
   "cell_type": "code",
   "execution_count": null,
   "metadata": {},
   "outputs": [],
   "source": [
    "dogs"
   ]
  },
  {
   "cell_type": "code",
   "execution_count": null,
   "metadata": {},
   "outputs": [],
   "source": [
    "# in and not in operators\n",
    "\"yorki\" in dogs"
   ]
  },
  {
   "cell_type": "markdown",
   "metadata": {},
   "source": [
    "## Lists and list methods"
   ]
  },
  {
   "cell_type": "code",
   "execution_count": null,
   "metadata": {},
   "outputs": [],
   "source": [
    "fruit = [\"oranges\", \"bananas\", \"apples\", \"pears\"]"
   ]
  },
  {
   "cell_type": "code",
   "execution_count": null,
   "metadata": {},
   "outputs": [],
   "source": [
    "# how to search a list by value rather than index position\n",
    "# use .index()\n",
    "fruit.index(\"bananas\")"
   ]
  },
  {
   "cell_type": "code",
   "execution_count": null,
   "metadata": {},
   "outputs": [],
   "source": [
    "fruit[1]"
   ]
  },
  {
   "cell_type": "code",
   "execution_count": null,
   "metadata": {},
   "outputs": [],
   "source": [
    "# what if you want to add one element to a list?\n",
    "# use .append()\n",
    "fruit.append(\"blueberries\")"
   ]
  },
  {
   "cell_type": "code",
   "execution_count": null,
   "metadata": {},
   "outputs": [],
   "source": [
    "fruit"
   ]
  },
  {
   "cell_type": "code",
   "execution_count": null,
   "metadata": {},
   "outputs": [],
   "source": [
    "# what if you want to add an element to a list in a specific index position?\n",
    "# use .insert()\n",
    "fruit.insert(1, \"watermelon\")"
   ]
  },
  {
   "cell_type": "code",
   "execution_count": null,
   "metadata": {},
   "outputs": [],
   "source": [
    "fruit"
   ]
  },
  {
   "cell_type": "code",
   "execution_count": null,
   "metadata": {},
   "outputs": [],
   "source": [
    "# what if you want to add multiple elements to a list at once?\n",
    "# use .extend()\n",
    "# .extend() takes a list as its argument\n",
    "\n",
    "fruit.extend([\"limes\", \"plums\"])"
   ]
  },
  {
   "cell_type": "code",
   "execution_count": null,
   "metadata": {},
   "outputs": [],
   "source": [
    "fruit"
   ]
  },
  {
   "cell_type": "code",
   "execution_count": null,
   "metadata": {},
   "outputs": [],
   "source": [
    "# what if you want to sort elements in a list?\n",
    "# .sort() to sort elements in-place\n",
    "\n",
    "fruit.sort()"
   ]
  },
  {
   "cell_type": "code",
   "execution_count": null,
   "metadata": {},
   "outputs": [],
   "source": [
    "fruit"
   ]
  },
  {
   "cell_type": "code",
   "execution_count": null,
   "metadata": {},
   "outputs": [],
   "source": [
    "# what about if you want to sort in descending order, from z to a?\n",
    "\n",
    "fruit.sort(reverse = True)"
   ]
  },
  {
   "cell_type": "code",
   "execution_count": null,
   "metadata": {},
   "outputs": [],
   "source": [
    "fruit"
   ]
  },
  {
   "cell_type": "code",
   "execution_count": null,
   "metadata": {},
   "outputs": [],
   "source": [
    "# a method to reverse a list\n",
    "\n",
    "tens = [10, 20, 30, 40, 50, 60]"
   ]
  },
  {
   "cell_type": "code",
   "execution_count": null,
   "metadata": {},
   "outputs": [],
   "source": [
    "tens"
   ]
  },
  {
   "cell_type": "code",
   "execution_count": null,
   "metadata": {},
   "outputs": [],
   "source": [
    "tens.reverse()"
   ]
  },
  {
   "cell_type": "code",
   "execution_count": null,
   "metadata": {},
   "outputs": [],
   "source": [
    "tens"
   ]
  },
  {
   "cell_type": "code",
   "execution_count": null,
   "metadata": {},
   "outputs": [],
   "source": [
    "tens[::-1]"
   ]
  },
  {
   "cell_type": "code",
   "execution_count": null,
   "metadata": {},
   "outputs": [],
   "source": [
    "# lets create a function to check if a list is the same forwards and backwards\n",
    "\n",
    "def is_list_a_palindrome(a_list: list):\n",
    "    \n",
    "    # first check if the argument is a list\n",
    "    if type(a_list) == list and len(a_list) > 0:\n",
    "        \n",
    "        a_list_reverse = a_list[::-1]\n",
    "        \n",
    "        # check if the list is the same forwards and backwards\n",
    "        if a_list == a_list_reverse:\n",
    "            print(f\"Yes, {a_list} is a palindrome\")\n",
    "            \n",
    "        else:\n",
    "            print(f\"No, {a_list} is not a palindrome\")\n",
    "            \n",
    "    else:\n",
    "        print(\"your list is not a list or its empty\")"
   ]
  },
  {
   "cell_type": "code",
   "execution_count": null,
   "metadata": {},
   "outputs": [],
   "source": [
    "is_list_a_palindrome([\"hello\", \"goodbye\", \"see you later\", \"goodbye\", \"hello\"])"
   ]
  },
  {
   "cell_type": "markdown",
   "metadata": {},
   "source": [
    "## Tuples"
   ]
  },
  {
   "cell_type": "code",
   "execution_count": 2,
   "metadata": {},
   "outputs": [],
   "source": [
    "user_info = (123456, \"John Doe\", \"100 2nd Ave\")"
   ]
  },
  {
   "cell_type": "code",
   "execution_count": 3,
   "metadata": {},
   "outputs": [
    {
     "data": {
      "text/plain": [
       "123456"
      ]
     },
     "execution_count": 3,
     "metadata": {},
     "output_type": "execute_result"
    }
   ],
   "source": [
    "# tuple index\n",
    "user_info[0]"
   ]
  },
  {
   "cell_type": "code",
   "execution_count": 4,
   "metadata": {},
   "outputs": [
    {
     "data": {
      "text/plain": [
       "'100 2nd Ave'"
      ]
     },
     "execution_count": 4,
     "metadata": {},
     "output_type": "execute_result"
    }
   ],
   "source": [
    "user_info[-1]"
   ]
  },
  {
   "cell_type": "code",
   "execution_count": 5,
   "metadata": {},
   "outputs": [
    {
     "data": {
      "text/plain": [
       "tuple"
      ]
     },
     "execution_count": 5,
     "metadata": {},
     "output_type": "execute_result"
    }
   ],
   "source": [
    "type(user_info)"
   ]
  },
  {
   "cell_type": "code",
   "execution_count": 6,
   "metadata": {},
   "outputs": [],
   "source": [
    "# how can you store a tuple with one value\n",
    "user_id = (98765,)"
   ]
  },
  {
   "cell_type": "code",
   "execution_count": 7,
   "metadata": {},
   "outputs": [
    {
     "data": {
      "text/plain": [
       "tuple"
      ]
     },
     "execution_count": 7,
     "metadata": {},
     "output_type": "execute_result"
    }
   ],
   "source": [
    "type(user_id)"
   ]
  },
  {
   "cell_type": "code",
   "execution_count": 8,
   "metadata": {},
   "outputs": [
    {
     "data": {
      "text/plain": [
       "98765"
      ]
     },
     "execution_count": 8,
     "metadata": {},
     "output_type": "execute_result"
    }
   ],
   "source": [
    "user_id[0]"
   ]
  },
  {
   "cell_type": "markdown",
   "metadata": {},
   "source": [
    "## Dictionaries"
   ]
  },
  {
   "cell_type": "code",
   "execution_count": 9,
   "metadata": {},
   "outputs": [],
   "source": [
    "# defining a dictionary\n",
    "birthdays = {\"John\": \"June 1\", \"Carol\": \"August 17\", \"Sameer\": \"September 25\", \"Emily\": \"June 24\"}"
   ]
  },
  {
   "cell_type": "code",
   "execution_count": 10,
   "metadata": {},
   "outputs": [
    {
     "data": {
      "text/plain": [
       "dict"
      ]
     },
     "execution_count": 10,
     "metadata": {},
     "output_type": "execute_result"
    }
   ],
   "source": [
    "type(birthdays)"
   ]
  },
  {
   "cell_type": "code",
   "execution_count": 11,
   "metadata": {},
   "outputs": [
    {
     "data": {
      "text/plain": [
       "'September 25'"
      ]
     },
     "execution_count": 11,
     "metadata": {},
     "output_type": "execute_result"
    }
   ],
   "source": [
    "birthdays[\"Sameer\"]"
   ]
  },
  {
   "cell_type": "code",
   "execution_count": 12,
   "metadata": {},
   "outputs": [],
   "source": [
    "# add an element to the dictionary\n",
    "birthdays[\"Arun\"] = \"January 12\""
   ]
  },
  {
   "cell_type": "code",
   "execution_count": 13,
   "metadata": {},
   "outputs": [
    {
     "data": {
      "text/plain": [
       "{'John': 'June 1',\n",
       " 'Carol': 'August 17',\n",
       " 'Sameer': 'September 25',\n",
       " 'Emily': 'June 24',\n",
       " 'Arun': 'January 12'}"
      ]
     },
     "execution_count": 13,
     "metadata": {},
     "output_type": "execute_result"
    }
   ],
   "source": [
    "birthdays"
   ]
  },
  {
   "cell_type": "code",
   "execution_count": 14,
   "metadata": {},
   "outputs": [],
   "source": [
    "# lets make another dictionary with integers as keys\n",
    "combinations = {}"
   ]
  },
  {
   "cell_type": "code",
   "execution_count": 15,
   "metadata": {},
   "outputs": [],
   "source": [
    "combinations[1234] = \"gym lock\""
   ]
  },
  {
   "cell_type": "code",
   "execution_count": 16,
   "metadata": {},
   "outputs": [],
   "source": [
    "combinations[9999] = \"bike lock\""
   ]
  },
  {
   "cell_type": "code",
   "execution_count": 17,
   "metadata": {},
   "outputs": [
    {
     "data": {
      "text/plain": [
       "{1234: 'gym lock', 9999: 'bike lock'}"
      ]
     },
     "execution_count": 17,
     "metadata": {},
     "output_type": "execute_result"
    }
   ],
   "source": [
    "combinations"
   ]
  },
  {
   "cell_type": "code",
   "execution_count": 18,
   "metadata": {},
   "outputs": [
    {
     "data": {
      "text/plain": [
       "dict_keys(['John', 'Carol', 'Sameer', 'Emily', 'Arun'])"
      ]
     },
     "execution_count": 18,
     "metadata": {},
     "output_type": "execute_result"
    }
   ],
   "source": [
    "# dictionary methods\n",
    "# how to look at all the keys of a dictionary?\n",
    "# .keys()\n",
    "\n",
    "birthdays.keys()"
   ]
  },
  {
   "cell_type": "code",
   "execution_count": 19,
   "metadata": {},
   "outputs": [
    {
     "data": {
      "text/plain": [
       "dict_values(['June 1', 'August 17', 'September 25', 'June 24', 'January 12'])"
      ]
     },
     "execution_count": 19,
     "metadata": {},
     "output_type": "execute_result"
    }
   ],
   "source": [
    "# how to see all the values in a dictionary?\n",
    "# .values()\n",
    "\n",
    "birthdays.values()"
   ]
  },
  {
   "cell_type": "code",
   "execution_count": 22,
   "metadata": {},
   "outputs": [
    {
     "data": {
      "text/plain": [
       "True"
      ]
     },
     "execution_count": 22,
     "metadata": {},
     "output_type": "execute_result"
    }
   ],
   "source": [
    "# in and not in operators\n",
    "# is august 17 in values?\n",
    "\n",
    "\"august 17\" in birthdays.values()"
   ]
  },
  {
   "cell_type": "code",
   "execution_count": 23,
   "metadata": {},
   "outputs": [
    {
     "data": {
      "text/plain": [
       "False"
      ]
     },
     "execution_count": 23,
     "metadata": {},
     "output_type": "execute_result"
    }
   ],
   "source": [
    "\"Frank\" in birthdays.keys()"
   ]
  },
  {
   "cell_type": "code",
   "execution_count": 24,
   "metadata": {},
   "outputs": [
    {
     "data": {
      "text/plain": [
       "dict_items([('John', 'June 1'), ('Carol', 'August 17'), ('Sameer', 'September 25'), ('Emily', 'June 24'), ('Arun', 'January 12')])"
      ]
     },
     "execution_count": 24,
     "metadata": {},
     "output_type": "execute_result"
    }
   ],
   "source": [
    "# what if you want to look at all key, value pairs\n",
    "# .items()\n",
    "\n",
    "birthdays.items()"
   ]
  },
  {
   "cell_type": "code",
   "execution_count": 25,
   "metadata": {},
   "outputs": [
    {
     "name": "stdout",
     "output_type": "stream",
     "text": [
      "John ... June 1\n",
      "Carol ... August 17\n",
      "Sameer ... September 25\n",
      "Emily ... June 24\n",
      "Arun ... January 12\n"
     ]
    }
   ],
   "source": [
    "for key,value in birthdays.items():\n",
    "    print(key,'...',value)"
   ]
  },
  {
   "cell_type": "code",
   "execution_count": 28,
   "metadata": {},
   "outputs": [
    {
     "data": {
      "text/plain": [
       "False"
      ]
     },
     "execution_count": 28,
     "metadata": {},
     "output_type": "execute_result"
    }
   ],
   "source": [
    "\"John\" in birthdays.items()"
   ]
  },
  {
   "cell_type": "code",
   "execution_count": 29,
   "metadata": {},
   "outputs": [
    {
     "name": "stdout",
     "output_type": "stream",
     "text": [
      "John\n",
      "Carol\n",
      "Sameer\n",
      "Emily\n",
      "Arun\n"
     ]
    }
   ],
   "source": [
    "# how to loop through all keys or values in a dictionary\n",
    "for key in birthdays.keys():\n",
    "    print(key)"
   ]
  },
  {
   "cell_type": "code",
   "execution_count": 30,
   "metadata": {},
   "outputs": [
    {
     "data": {
      "text/plain": [
       "'November 1'"
      ]
     },
     "execution_count": 30,
     "metadata": {},
     "output_type": "execute_result"
    }
   ],
   "source": [
    "# what if you want to search for a key, but if it does not exist you want to return a value\n",
    "# .get() method\n",
    "\n",
    "birthdays.get(\"Michael\", \"November 1\")"
   ]
  },
  {
   "cell_type": "code",
   "execution_count": 31,
   "metadata": {},
   "outputs": [
    {
     "data": {
      "text/plain": [
       "'December 2'"
      ]
     },
     "execution_count": 31,
     "metadata": {},
     "output_type": "execute_result"
    }
   ],
   "source": [
    "# add a key, value to a dictionary if it does not exist\n",
    "# .setdefault\n",
    "\n",
    "birthdays.setdefault(\"Erin\", \"December 2\")"
   ]
  },
  {
   "cell_type": "code",
   "execution_count": 32,
   "metadata": {},
   "outputs": [
    {
     "data": {
      "text/plain": [
       "{'John': 'June 1',\n",
       " 'Carol': 'August 17',\n",
       " 'Sameer': 'September 25',\n",
       " 'Emily': 'June 24',\n",
       " 'Arun': 'January 12',\n",
       " 'Erin': 'December 2'}"
      ]
     },
     "execution_count": 32,
     "metadata": {},
     "output_type": "execute_result"
    }
   ],
   "source": [
    "birthdays"
   ]
  },
  {
   "cell_type": "code",
   "execution_count": 36,
   "metadata": {},
   "outputs": [
    {
     "data": {
      "text/plain": [
       "'June 1'"
      ]
     },
     "execution_count": 36,
     "metadata": {},
     "output_type": "execute_result"
    }
   ],
   "source": [
    "birthdays.setdefault(\"John\", \"December 15\")"
   ]
  },
  {
   "cell_type": "code",
   "execution_count": 37,
   "metadata": {},
   "outputs": [
    {
     "data": {
      "text/plain": [
       "{'John': 'June 1',\n",
       " 'Carol': 'August 17',\n",
       " 'Sameer': 'September 25',\n",
       " 'Emily': 'June 24',\n",
       " 'Arun': 'January 12',\n",
       " 'Erin': 'December 2'}"
      ]
     },
     "execution_count": 37,
     "metadata": {},
     "output_type": "execute_result"
    }
   ],
   "source": [
    "birthdays"
   ]
  },
  {
   "cell_type": "code",
   "execution_count": 39,
   "metadata": {},
   "outputs": [
    {
     "data": {
      "text/plain": [
       "{'Y': 1,\n",
       " 'o': 6,\n",
       " 'u': 5,\n",
       " 'r': 3,\n",
       " ' ': 13,\n",
       " 'p': 1,\n",
       " 'c': 1,\n",
       " 'm': 5,\n",
       " 'i': 5,\n",
       " 'n': 3,\n",
       " 'g': 1,\n",
       " 'h': 1,\n",
       " 'e': 7,\n",
       " 'w': 2,\n",
       " 'k': 3,\n",
       " 's': 4,\n",
       " 'd': 1,\n",
       " '3': 1,\n",
       " ',': 1,\n",
       " 'a': 1,\n",
       " 't': 3,\n",
       " 'b': 1,\n",
       " '.': 1}"
      ]
     },
     "execution_count": 39,
     "metadata": {},
     "output_type": "execute_result"
    }
   ],
   "source": [
    "# application of .setdefault\n",
    "# page 117 of your textbook\n",
    "\n",
    "annoucement = \"Your upcoming homework is due in 3 weeks, make sure to submit on time.\"\n",
    "\n",
    "count_of_characters = {}\n",
    "\n",
    "for character in annoucement:\n",
    "    #print(character)\n",
    "    count_of_characters.setdefault(character, 0)\n",
    "    count_of_characters[character] = count_of_characters[character] + 1\n",
    "    \n",
    "count_of_characters"
   ]
  },
  {
   "cell_type": "markdown",
   "metadata": {},
   "source": [
    "## Data Type: Set"
   ]
  },
  {
   "cell_type": "code",
   "execution_count": 43,
   "metadata": {},
   "outputs": [],
   "source": [
    "# what is a set?\n",
    "# a list with no duplicate elements\n",
    "\n",
    "# how to define a set?\n",
    "# use curly brackets {}, but you do not use : which will make a dictionary\n",
    "\n",
    "greetings = {\"hello\", \"how are you?\", \"Hi there\", \"hello\"}"
   ]
  },
  {
   "cell_type": "code",
   "execution_count": 44,
   "metadata": {},
   "outputs": [
    {
     "data": {
      "text/plain": [
       "{'Hi there', 'hello', 'how are you?'}"
      ]
     },
     "execution_count": 44,
     "metadata": {},
     "output_type": "execute_result"
    }
   ],
   "source": [
    "greetings"
   ]
  },
  {
   "cell_type": "code",
   "execution_count": 45,
   "metadata": {},
   "outputs": [],
   "source": [
    "# to append to a set use .add()\n",
    "\n",
    "greetings.add(\"howdy\")"
   ]
  },
  {
   "cell_type": "code",
   "execution_count": 46,
   "metadata": {},
   "outputs": [
    {
     "data": {
      "text/plain": [
       "{'Hi there', 'hello', 'how are you?', 'howdy'}"
      ]
     },
     "execution_count": 46,
     "metadata": {},
     "output_type": "execute_result"
    }
   ],
   "source": [
    "greetings"
   ]
  },
  {
   "cell_type": "code",
   "execution_count": 47,
   "metadata": {},
   "outputs": [],
   "source": [
    "# to remove all elements from a set at once use .clear()\n",
    "greetings.clear()"
   ]
  },
  {
   "cell_type": "code",
   "execution_count": 48,
   "metadata": {},
   "outputs": [
    {
     "data": {
      "text/plain": [
       "set()"
      ]
     },
     "execution_count": 48,
     "metadata": {},
     "output_type": "execute_result"
    }
   ],
   "source": [
    "greetings"
   ]
  },
  {
   "cell_type": "code",
   "execution_count": 49,
   "metadata": {},
   "outputs": [],
   "source": [
    "# looking at difference between sets\n",
    "\n",
    "tens = {10, 20, 30, 40, 50}\n",
    "fives = {5, 10, 15, 20, 25, 30, 35, 40, 45, 50}"
   ]
  },
  {
   "cell_type": "code",
   "execution_count": 50,
   "metadata": {},
   "outputs": [
    {
     "data": {
      "text/plain": [
       "{5, 15, 25, 35, 45}"
      ]
     },
     "execution_count": 50,
     "metadata": {},
     "output_type": "execute_result"
    }
   ],
   "source": [
    "fives - tens"
   ]
  },
  {
   "cell_type": "code",
   "execution_count": 51,
   "metadata": {},
   "outputs": [],
   "source": [
    "test_list = [\"dogs\", \"cats\", \"birds\", \"dogs\"]"
   ]
  },
  {
   "cell_type": "code",
   "execution_count": 52,
   "metadata": {},
   "outputs": [],
   "source": [
    "test_set = set(test_list)"
   ]
  },
  {
   "cell_type": "code",
   "execution_count": 53,
   "metadata": {},
   "outputs": [
    {
     "data": {
      "text/plain": [
       "{'birds', 'cats', 'dogs'}"
      ]
     },
     "execution_count": 53,
     "metadata": {},
     "output_type": "execute_result"
    }
   ],
   "source": [
    "test_set"
   ]
  },
  {
   "cell_type": "markdown",
   "metadata": {},
   "source": [
    "## If statements"
   ]
  },
  {
   "cell_type": "code",
   "execution_count": 58,
   "metadata": {},
   "outputs": [
    {
     "name": "stdout",
     "output_type": "stream",
     "text": [
      "Enter a number between -30 and 30: 33\n",
      "magic number is a positive number\n",
      "if statement is complete\n"
     ]
    }
   ],
   "source": [
    "magic_number = int(input(\"Enter a number between -30 and 30: \"))\n",
    "\n",
    "if magic_number < 0:\n",
    "    print(\"magic number is a negative number\")\n",
    "    \n",
    "elif magic_number == 0:\n",
    "    print(\"magic number is zero\")\n",
    "    \n",
    "elif magic_number > 0:\n",
    "    print(\"magic number is a positive number\")\n",
    "    \n",
    "else:\n",
    "    print(\"something went wrong with your number selection\")\n",
    "    \n",
    "print(\"if statement is complete\")"
   ]
  },
  {
   "cell_type": "code",
   "execution_count": 59,
   "metadata": {},
   "outputs": [
    {
     "name": "stdout",
     "output_type": "stream",
     "text": [
      "Enter a message herehowdy folks, welcome to master school - hello hoosiers!\n",
      "your message is greater than 20 characters\n"
     ]
    }
   ],
   "source": [
    "# example two\n",
    "\n",
    "your_message = input(\"Enter a message here\")\n",
    "\n",
    "if len(your_message) == 0:\n",
    "    print(\"your message is blank\")\n",
    "    \n",
    "elif len(your_message) > 0 and len(your_message) < 20:\n",
    "    print(\"your message isn't blank, but less than 20 characters\")\n",
    "    \n",
    "else:\n",
    "    print(\"your message is greater than 20 characters\")"
   ]
  },
  {
   "cell_type": "code",
   "execution_count": 60,
   "metadata": {},
   "outputs": [
    {
     "name": "stdout",
     "output_type": "stream",
     "text": [
      "Hello, what is your name?Joe\n",
      "Hello Joe, what would you like to open?\n",
      "gym locker\n",
      "Ok, Joe, what is the password to gym locker?\n",
      "9898\n",
      "access granted!\n"
     ]
    }
   ],
   "source": [
    "# example 3, a long example including dictionary\n",
    "\n",
    "password_dict = {\"luggage\" : 1234,\n",
    "                \"gym locker\" : 9898,\n",
    "                \"garage code\" : 2222,\n",
    "                \"bike lock\" : 1000}\n",
    "\n",
    "name = input(\"Hello, what is your name?\")\n",
    "\n",
    "print(f\"Hello {name}, what would you like to open?\")\n",
    "\n",
    "question_answer = input()\n",
    "\n",
    "if question_answer.lower() in password_dict.keys():\n",
    "    print(f\"Ok, {name}, what is the password to {question_answer}?\")\n",
    "    \n",
    "    password_answer = int(input())\n",
    "    \n",
    "    if password_answer == password_dict[question_answer]:\n",
    "        print(\"access granted!\")\n",
    "        \n",
    "    else:\n",
    "        print(\"wrong password, access denied\")\n",
    "        \n",
    "else:\n",
    "    print(f\"Sorry {name}, {question_answer} does not exist in dictionary\")"
   ]
  },
  {
   "cell_type": "code",
   "execution_count": null,
   "metadata": {},
   "outputs": [],
   "source": [
    "# if statement to see if you can guess a random number between 1 and 10\n",
    "\n",
    "import random\n",
    "\n",
    "random_number = random.randint(1, 10)\n",
    "\n",
    "your_guess = int(input(\"What is your guess between 1 and 10?\"))\n",
    "\n",
    "if your_guess == random_number:\n",
    "    print(f\"correct! your guess {your_guess} was equal to the random number\")\n",
    "    \n",
    "else:\n",
    "    print(f\"incorrect, your guess was {your_guess} the random number was {random_number}\")"
   ]
  },
  {
   "cell_type": "code",
   "execution_count": null,
   "metadata": {},
   "outputs": [],
   "source": []
  }
 ],
 "metadata": {
  "kernelspec": {
   "display_name": "Python 3 (ipykernel)",
   "language": "python",
   "name": "python3"
  },
  "language_info": {
   "codemirror_mode": {
    "name": "ipython",
    "version": 3
   },
   "file_extension": ".py",
   "mimetype": "text/x-python",
   "name": "python",
   "nbconvert_exporter": "python",
   "pygments_lexer": "ipython3",
   "version": "3.9.13"
  }
 },
 "nbformat": 4,
 "nbformat_minor": 2
}
